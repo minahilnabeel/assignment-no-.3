{
  "nbformat": 4,
  "nbformat_minor": 0,
  "metadata": {
    "colab": {
      "provenance": []
    },
    "kernelspec": {
      "name": "python3",
      "display_name": "Python 3"
    },
    "language_info": {
      "name": "python"
    }
  },
  "cells": [
    {
      "cell_type": "code",
      "execution_count": 2,
      "metadata": {
        "colab": {
          "base_uri": "https://localhost:8080/"
        },
        "id": "vVGKf_XJBszS",
        "outputId": "5769e7eb-9792-4ef9-db0f-6071a1ded50e"
      },
      "outputs": [
        {
          "output_type": "stream",
          "name": "stdout",
          "text": [
            "Enter the first number: 10\n",
            "Enter the second number: 20\n",
            "Enter the third number: 40\n",
            "Sum:  30\n",
            "Difference:  -10\n",
            "Product:  200\n",
            "average:  10\n"
          ]
        }
      ],
      "source": [
        "a=int(input(\"Enter the first number: \"))\n",
        "b=int(input(\"Enter the second number: \"))\n",
        "c=int(input(\"Enter the third number: \"))\n",
        "print(\"Sum: \",a+b)\n",
        "print(\"Difference: \",a-b)\n",
        "print(\"Product: \",a*b)\n",
        "print(\"average: \",a%b)"
      ]
    },
    {
      "cell_type": "code",
      "execution_count": 3,
      "metadata": {
        "colab": {
          "base_uri": "https://localhost:8080/"
        },
        "id": "YX-dmxuTFpcc",
        "outputId": "49448b84-27da-4aff-982b-7bb3048e1ce6"
      },
      "outputs": [
        {
          "output_type": "stream",
          "name": "stdout",
          "text": [
            "enter the height of the triangle: 4\n",
            "enter the base of the triangle:  6\n",
            "the area of triangle is 12.0\n"
          ]
        }
      ],
      "source": [
        "height = float(input(\"enter the height of the triangle: \"))\n",
        "base = float(input(\"enter the base of the triangle:  \"))\n",
        "\n",
        "area = (0.5)*base*height\n",
        "\n",
        "print ('the area of triangle is',area)"
      ]
    },
    {
      "cell_type": "code",
      "source": [
        "# area+ side*side\n",
        "side=int(input('Enter side:'))# 5\n",
        "area= side*side\n",
        "print ('Area os Square:',area)"
      ],
      "metadata": {
        "colab": {
          "base_uri": "https://localhost:8080/"
        },
        "id": "pfQs2SCqJsB6",
        "outputId": "a038fea8-c052-4b28-a350-338b7a97aa2b"
      },
      "execution_count": 8,
      "outputs": [
        {
          "output_type": "stream",
          "name": "stdout",
          "text": [
            "Enter side:5\n",
            "Area os Square: 25\n"
          ]
        }
      ]
    },
    {
      "cell_type": "markdown",
      "source": [],
      "metadata": {
        "id": "x0NAoRTbQDaG"
      }
    },
    {
      "cell_type": "code",
      "source": [
        "# input---> radius\n",
        "# PT=3.14---->3.14*r*r\n",
        "\n",
        "radius=float(input(\"Enter radius:  \"))\n",
        "area=3.14*radius*radius\n",
        "print('Area of circle: ',area)"
      ],
      "metadata": {
        "colab": {
          "base_uri": "https://localhost:8080/"
        },
        "id": "V-MSqhFmQE0l",
        "outputId": "4a77c8f3-5ac4-4a1e-b797-2b52377b9284"
      },
      "execution_count": 9,
      "outputs": [
        {
          "output_type": "stream",
          "name": "stdout",
          "text": [
            "Enter radius:  3\n",
            "Area of circle:  28.259999999999998\n"
          ]
        }
      ]
    },
    {
      "cell_type": "code",
      "source": [
        "# Length = 1\n",
        "# breadth = b\n",
        "# area of rectangle= 1*b\n",
        "\n",
        "l=int(input(\"Enter length\"))\n",
        "b=int(input(\"Enter breadth: \"))\n",
        "area=l*b\n",
        "print(\"Area of rectangle: \",area)"
      ],
      "metadata": {
        "colab": {
          "base_uri": "https://localhost:8080/"
        },
        "id": "Jsls9qlpQF6C",
        "outputId": "d26d6be4-914b-4e94-9c2e-b428216c5207"
      },
      "execution_count": 19,
      "outputs": [
        {
          "output_type": "stream",
          "name": "stdout",
          "text": [
            "Enter length10\n",
            "Enter breadth: 6\n",
            "Area of rectangle:  60\n"
          ]
        }
      ]
    },
    {
      "cell_type": "code",
      "source": [
        "\n",
        "x = 13\n",
        "y = 12\n",
        "temp = x\n",
        "print (\"the value of temp variable is\",temp)\n",
        "\n",
        "x = y\n",
        "print (\"the value of X is\", x)\n",
        "\n",
        "y = temp\n",
        "print (\"the value of y is\",y)\n"
      ],
      "metadata": {
        "colab": {
          "base_uri": "https://localhost:8080/"
        },
        "id": "IFjwXKUAXb3G",
        "outputId": "1701d612-fc1b-474b-b45e-08349c9a595d"
      },
      "execution_count": 22,
      "outputs": [
        {
          "output_type": "stream",
          "name": "stdout",
          "text": [
            "the value of temp variable is 13\n",
            "the value of X is 12\n",
            "the value of y is 13\n"
          ]
        }
      ]
    }
  ]
}